{
 "cells": [
  {
   "cell_type": "code",
   "execution_count": 1,
   "metadata": {},
   "outputs": [],
   "source": [
    "import numpy as np\n",
    "import random\n",
    "import math\n",
    "import scipy.io as sio\n",
    "\n",
    "import matplotlib.pyplot as plt\n",
    "from collections import Counter\n",
    "\n",
    "from numpy import genfromtxt\n",
    "\n",
    "from sklearn.tree import DecisionTreeClassifier\n",
    "from itertools import chain\n",
    "\n",
    "from itertools import permutations"
   ]
  },
  {
   "cell_type": "code",
   "execution_count": 4,
   "metadata": {},
   "outputs": [],
   "source": [
    "k = 10"
   ]
  },
  {
   "cell_type": "code",
   "execution_count": 5,
   "metadata": {},
   "outputs": [],
   "source": [
    "training_features = genfromtxt(\"BoW_\"+ str(k)+ \"/training_features_\" + str(k) + \".csv\", delimiter=',')\n",
    "testing_features = genfromtxt(\"BoW_\"+ str(k)+ \"/testing_features_\" + str(k) + \".csv\", delimiter=',')\n",
    "\n",
    "training_labels = genfromtxt(\"BoW_\"+ str(k)+ \"/training_labels_\" + str(k) + \".csv\", delimiter=',')\n",
    "testing_labels = genfromtxt(\"BoW_\"+ str(k)+ \"/testing_labels_\" + str(k) + \".csv\", delimiter=',')"
   ]
  },
  {
   "cell_type": "code",
   "execution_count": 6,
   "metadata": {},
   "outputs": [
    {
     "data": {
      "text/plain": [
       "(150, 10)"
      ]
     },
     "execution_count": 6,
     "metadata": {},
     "output_type": "execute_result"
    }
   ],
   "source": [
    "training_features.shape"
   ]
  },
  {
   "cell_type": "code",
   "execution_count": 7,
   "metadata": {},
   "outputs": [],
   "source": [
    "def shannon_entropy(data_labels):\n",
    "    accumulated_class = np.zeros(10)\n",
    "    entropy = 0\n",
    "    \n",
    "    if len(data_labels) == 0:\n",
    "        return 0\n",
    "    \n",
    "    for i in range(len(data_labels)):\n",
    "        accumulated_class[int(data_labels[i])] += 1\n",
    "        \n",
    "    for i in range(10):\n",
    "        prob_of_class = accumulated_class[i]/len(data_labels)\n",
    "        if prob_of_class > 0: entropy += prob_of_class*math.log2(prob_of_class)\n",
    "            \n",
    "    return -1*entropy"
   ]
  },
  {
   "cell_type": "code",
   "execution_count": 8,
   "metadata": {},
   "outputs": [],
   "source": [
    "def information_gain(parent_data_labels, left_labels, right_labels):\n",
    "    \n",
    "    if len(parent_data_labels) == 0:\n",
    "        return 0\n",
    "    \n",
    "    parent_entropy = shannon_entropy(parent_data_labels)\n",
    "    left_entropy = (len(left_labels)/len(parent_data_labels))*shannon_entropy(left_labels)\n",
    "    right_entropy = (len(right_labels)/len(parent_data_labels))*shannon_entropy(right_labels)\n",
    "    \n",
    "    return parent_entropy - (left_entropy+right_entropy)    "
   ]
  },
  {
   "cell_type": "code",
   "execution_count": 9,
   "metadata": {},
   "outputs": [],
   "source": [
    "def accuracy(y_true, y_pred):\n",
    "    accuracy = np.sum(y_true == y_pred) / len(y_true)\n",
    "    return accuracy"
   ]
  },
  {
   "cell_type": "code",
   "execution_count": 10,
   "metadata": {},
   "outputs": [],
   "source": [
    "class axis_al_Node:\n",
    "    def __init__(self, feature=None, threshold=None, left=None, right=None, *, value=None):\n",
    "        self.feature = feature\n",
    "        self.threshold = threshold\n",
    "        self.left = left\n",
    "        self.right = right\n",
    "        self.value = value\n",
    "        \n",
    "    def is_leaf_node(self):\n",
    "        return self.value is not None"
   ]
  },
  {
   "cell_type": "code",
   "execution_count": 11,
   "metadata": {},
   "outputs": [],
   "source": [
    "class two_pixel_Node:\n",
    "    def __init__(self, feature1=None, feature2=None, threshold=None, left=None, right=None, *, value=None):\n",
    "        self.feature1 = feature1\n",
    "        self.feature2 = feature2\n",
    "        self.threshold = threshold\n",
    "        self.left = left\n",
    "        self.right = right\n",
    "        self.value = value\n",
    "        \n",
    "    def is_leaf_node(self):\n",
    "        return self.value is not None"
   ]
  },
  {
   "cell_type": "code",
   "execution_count": 12,
   "metadata": {},
   "outputs": [],
   "source": [
    "def most_common_label(y):\n",
    "    return Counter(y).most_common(1)[0][0]"
   ]
  },
  {
   "cell_type": "code",
   "execution_count": 13,
   "metadata": {},
   "outputs": [],
   "source": [
    "# expected type of X and y are numpy arrays \n",
    "class DecisionTree:\n",
    "\n",
    "    def __init__(self, min_samples_split=2, max_depth=100, n_feats=None, weak_learner=\"axis_aligned\", rand_state=None):\n",
    "        self.min_samples_split = min_samples_split\n",
    "        self.max_depth = max_depth\n",
    "        self.n_feats = n_feats\n",
    "        self.weak_learner = weak_learner\n",
    "        self.root = None\n",
    "        self.rand_state = rand_state\n",
    "\n",
    "    def fit(self, X, y):\n",
    "        self.n_feats = X.shape[1] if not self.n_feats else min(self.n_feats, X.shape[1])\n",
    "        if self.rand_state is not None: np.random.seed(self.rand_state)\n",
    "        if self.weak_learner == \"axis_aligned\":\n",
    "            self.root = self.axis_aligned_tree(X, y)\n",
    "        else:\n",
    "            self.root = self.two_pixel_tree(X, y)\n",
    "    \n",
    "    def predict(self, X):\n",
    "        return np.array([self.traverse_tree(x, self.root) for x in X])\n",
    "\n",
    "    def two_pixel_tree(self, X, y, depth=0):\n",
    "        n_samples, n_features = X.shape\n",
    "        n_labels = len(np.unique(y))\n",
    "        \n",
    "        # stopping criteria\n",
    "        if (depth >= self.max_depth\n",
    "            or n_labels == 1\n",
    "            or n_samples <= self.min_samples_split):\n",
    "            leaf_value = most_common_label(y)\n",
    "            return two_pixel_Node(value=leaf_value)\n",
    "    \n",
    "        feat_pairs = np.asarray(list(permutations(range(0, n_features), 2)))\n",
    "        rand_idx = np.random.choice(feat_pairs.shape[0], self.n_feats, replace=False)\n",
    "        feat_pairs = feat_pairs[rand_idx]\n",
    "        \n",
    "        best_feat1, best_feat2, best_thresh = self.best_two_pixel_criteria(X, y, feat_pairs)\n",
    "        left_idxs, right_idxs = self.split(X[:, best_feat1]-X[:, best_feat2], best_thresh)\n",
    "        \n",
    "        left = self.two_pixel_tree(X[left_idxs, :], y[left_idxs], depth+1)\n",
    "        right = self.two_pixel_tree(X[right_idxs, :], y[right_idxs], depth+1)\n",
    "        return two_pixel_Node(best_feat1, best_feat2, best_thresh, left, right)\n",
    "        \n",
    "    def best_two_pixel_criteria(self, X, y, feat_pairs):\n",
    "        best_gain = -1\n",
    "        feat_idx1, feat_idx2, split_thresh = None, None, None\n",
    "        for feat_pair in feat_pairs:\n",
    "            X_column1 = X[:, feat_pair[0]]\n",
    "            X_column2 = X[:, feat_pair[1]]\n",
    "            difference = X_column1 - X_column2\n",
    "            thresholds = np.unique(difference)\n",
    "            for threshold in thresholds:\n",
    "                left_idxs, right_idxs = self.split(difference, threshold)\n",
    "                if len(left_idxs) == 0 or len(right_idxs) == 0:\n",
    "                    gain = 0\n",
    "                else:\n",
    "                    gain = information_gain(y, y[left_idxs], y[right_idxs])\n",
    "                if gain > best_gain:\n",
    "                    best_gain = gain\n",
    "                    feat_idx1 = feat_pair[0]\n",
    "                    feat_idx2 = feat_pair[1]\n",
    "                    split_thresh = threshold\n",
    "\n",
    "        return feat_idx1, feat_idx2, split_thresh \n",
    "        \n",
    "    def axis_aligned_tree(self, X, y, depth=0):\n",
    "        n_samples, n_features = X.shape\n",
    "        n_labels = len(np.unique(y))\n",
    "\n",
    "        # stopping criteria\n",
    "        if (depth >= self.max_depth\n",
    "                or n_labels == 1\n",
    "                or n_samples <= self.min_samples_split):\n",
    "            leaf_value = most_common_label(y)\n",
    "            return axis_al_Node(value=leaf_value)\n",
    "\n",
    "        feat_idxs = np.random.choice(n_features, self.n_feats, replace=False)\n",
    "    \n",
    "        best_feat, best_thresh = self.best_axis_al_criteria(X, y, feat_idxs)\n",
    "        \n",
    "        left_idxs, right_idxs = self.split(X[:, best_feat], best_thresh)\n",
    "        left = self.axis_aligned_tree(X[left_idxs, :], y[left_idxs], depth+1)\n",
    "        right = self.axis_aligned_tree(X[right_idxs, :], y[right_idxs], depth+1)\n",
    "        return axis_al_Node(best_feat, best_thresh, left, right)        \n",
    "    \n",
    "    def best_axis_al_criteria(self, X, y, feat_idxs):\n",
    "        best_gain = -1\n",
    "        split_idx, split_thresh = None, None\n",
    "        for feat_idx in feat_idxs:\n",
    "            X_column = X[:, feat_idx]\n",
    "            thresholds = np.unique(X_column)\n",
    "            for threshold in thresholds:\n",
    "                left_idxs, right_idxs = self.split(X_column, threshold)\n",
    "                if len(left_idxs) == 0 or len(right_idxs) == 0:\n",
    "                    gain = 0\n",
    "                else:\n",
    "                    gain = information_gain(y, y[left_idxs], y[right_idxs])\n",
    "                if gain > best_gain:\n",
    "                    best_gain = gain\n",
    "                    split_idx = feat_idx\n",
    "                    split_thresh = threshold\n",
    "\n",
    "        return split_idx, split_thresh\n",
    "\n",
    "    def split(self, X_column, split_thresh):\n",
    "        left_idxs = np.argwhere(X_column <= split_thresh).flatten()\n",
    "        right_idxs = np.argwhere(X_column > split_thresh).flatten()\n",
    "        return left_idxs, right_idxs\n",
    "\n",
    "    def traverse_tree(self, x, node):\n",
    "        if node.is_leaf_node():\n",
    "            return node.value\n",
    "        if self.weak_learner == \"axis_aligned\":\n",
    "            if x[node.feature] <= node.threshold:\n",
    "                return self.traverse_tree(x, node.left)\n",
    "            return self.traverse_tree(x, node.right)\n",
    "        else:\n",
    "            if (x[node.feature1] - x[node.feature2]) <= node.threshold:\n",
    "                return self.traverse_tree(x, node.left)\n",
    "            return self.traverse_tree(x, node.right)"
   ]
  },
  {
   "cell_type": "code",
   "execution_count": 14,
   "metadata": {},
   "outputs": [],
   "source": [
    "def bootstrap_sample(X, y):\n",
    "    n_samples = X.shape[0]\n",
    "    idxs = np.random.choice(n_samples, size=n_samples, replace=True)\n",
    "    return X[idxs], y[idxs]"
   ]
  },
  {
   "cell_type": "code",
   "execution_count": 42,
   "metadata": {},
   "outputs": [],
   "source": [
    "class RandomForest:\n",
    "    def __init__(self, n_trees=10, min_samples_split=2, max_depth=100, n_feats=None, weak_learner=\"axis_aligned\", rand_state=None):\n",
    "        self.n_trees = n_trees\n",
    "        self.min_samples_split = min_samples_split\n",
    "        self.max_depth = max_depth\n",
    "        self.n_feats = n_feats\n",
    "        self.trees = []\n",
    "        self.weak_learner = weak_learner\n",
    "        self.rand_state = rand_state\n",
    "        \n",
    "    def fit(self, X, y):\n",
    "        if self.rand_state is not None: np.random_seed(self.rand_seed)\n",
    "        self.trees = []\n",
    "        for i in range(self.n_trees):\n",
    "            # print(i)\n",
    "            tree = DecisionTree(min_samples_split = self.min_samples_split,\n",
    "                                max_depth = self.max_depth,\n",
    "                                n_feats = self.n_feats,\n",
    "                                weak_learner = self.weak_learner)\n",
    "            X_sample, y_sample = bootstrap_sample(X, y)\n",
    "            tree.fit(X_sample, y_sample)\n",
    "            self.trees.append(tree)\n",
    "                \n",
    "    def predict(self, X):\n",
    "        tree_preds = np.array([tree.predict(X) for tree in self.trees])\n",
    "        tree_preds = np.swapaxes(tree_preds, 0, 1)\n",
    "        y_preds = [most_common_label(tree_pred) for tree_pred in tree_preds]\n",
    "        return np.array(y_preds)"
   ]
  },
  {
   "cell_type": "code",
   "execution_count": 16,
   "metadata": {},
   "outputs": [
    {
     "data": {
      "text/plain": [
       "0.5"
      ]
     },
     "execution_count": 16,
     "metadata": {},
     "output_type": "execute_result"
    }
   ],
   "source": [
    "clf = DecisionTreeClassifier(random_state=42)\n",
    "clf = clf.fit(training_features, training_labels)\n",
    "\n",
    "y_pred = [clf.predict(x.reshape(1, -1)) for x in testing_features]\n",
    "y_pred = list(chain.from_iterable(y_pred))\n",
    "\n",
    "accuracy(testing_labels, y_pred)"
   ]
  },
  {
   "cell_type": "code",
   "execution_count": 17,
   "metadata": {},
   "outputs": [
    {
     "data": {
      "text/plain": [
       "array([0., 0., 0., 0., 0., 0., 0., 0., 0., 0., 0., 0., 0., 0., 0., 1., 1.,\n",
       "       1., 1., 1., 1., 1., 1., 1., 1., 1., 1., 1., 1., 1., 2., 2., 2., 2.,\n",
       "       2., 2., 2., 2., 2., 2., 2., 2., 2., 2., 2., 3., 3., 3., 3., 3., 3.,\n",
       "       3., 3., 3., 3., 3., 3., 3., 3., 3., 4., 4., 4., 4., 4., 4., 4., 4.,\n",
       "       4., 4., 4., 4., 4., 4., 4., 5., 5., 5., 5., 5., 5., 5., 5., 5., 5.,\n",
       "       5., 5., 5., 5., 5., 6., 6., 6., 6., 6., 6., 6., 6., 6., 6., 6., 6.,\n",
       "       6., 6., 6., 7., 7., 7., 7., 7., 7., 7., 7., 7., 7., 7., 7., 7., 7.,\n",
       "       7., 8., 8., 8., 8., 8., 8., 8., 8., 8., 8., 8., 8., 8., 8., 8., 9.,\n",
       "       9., 9., 9., 9., 9., 9., 9., 9., 9., 9., 9., 9., 9., 9.])"
      ]
     },
     "execution_count": 17,
     "metadata": {},
     "output_type": "execute_result"
    }
   ],
   "source": [
    "testing_labels"
   ]
  },
  {
   "cell_type": "code",
   "execution_count": 32,
   "metadata": {
    "scrolled": true
   },
   "outputs": [],
   "source": [
    "clf = DecisionTree(weak_learner=\"two_pixel\", rand_state = 42)\n",
    "clf.fit(training_features, training_labels)"
   ]
  },
  {
   "cell_type": "code",
   "execution_count": 33,
   "metadata": {},
   "outputs": [
    {
     "data": {
      "text/plain": [
       "0.41333333333333333"
      ]
     },
     "execution_count": 33,
     "metadata": {},
     "output_type": "execute_result"
    }
   ],
   "source": [
    "y_pred = [clf.predict(x.reshape(1, -1)) for x in testing_features]\n",
    "y_pred = list(chain.from_iterable(y_pred))\n",
    "\n",
    "accuracy(testing_labels, y_pred)"
   ]
  },
  {
   "cell_type": "code",
   "execution_count": 28,
   "metadata": {},
   "outputs": [
    {
     "name": "stdout",
     "output_type": "stream",
     "text": [
      "0\n",
      "1\n",
      "2\n",
      "3\n",
      "4\n",
      "5\n",
      "6\n",
      "7\n",
      "8\n",
      "9\n"
     ]
    }
   ],
   "source": [
    "rf = RandomForest()\n",
    "rf.fit(training_features, training_labels)"
   ]
  },
  {
   "cell_type": "code",
   "execution_count": 29,
   "metadata": {},
   "outputs": [],
   "source": [
    "y_pred = [rf.predict(x.reshape(1, -1)) for x in testing_features]\n",
    "y_pred = list(chain.from_iterable(y_pred))\n",
    "y_pred = np.asarray(list(map(int, y_pred)))"
   ]
  },
  {
   "cell_type": "code",
   "execution_count": 31,
   "metadata": {},
   "outputs": [
    {
     "data": {
      "text/plain": [
       "0.5266666666666666"
      ]
     },
     "execution_count": 31,
     "metadata": {},
     "output_type": "execute_result"
    }
   ],
   "source": [
    "accuracy(testing_labels, y_pred)"
   ]
  },
  {
   "cell_type": "code",
   "execution_count": 44,
   "metadata": {},
   "outputs": [
    {
     "name": "stdout",
     "output_type": "stream",
     "text": [
      "5\n",
      "\n",
      "Importing data\n",
      "Training decision tree\n",
      "\n",
      "Testing decision tree\n",
      "\n",
      "Training random forest\n",
      "\n",
      "Testing random forest\n",
      "End\n",
      "\n",
      "10\n",
      "\n",
      "Importing data\n",
      "Training decision tree\n",
      "\n",
      "Testing decision tree\n",
      "\n",
      "Training random forest\n",
      "\n",
      "Testing random forest\n",
      "End\n",
      "\n",
      "15\n",
      "\n",
      "Importing data\n",
      "Training decision tree\n",
      "\n",
      "Testing decision tree\n",
      "\n",
      "Training random forest\n",
      "\n",
      "Testing random forest\n",
      "End\n",
      "\n",
      "50\n",
      "\n",
      "Importing data\n",
      "Training decision tree\n",
      "\n",
      "Testing decision tree\n",
      "\n",
      "Training random forest\n",
      "\n",
      "Testing random forest\n",
      "End\n",
      "\n",
      "100\n",
      "\n",
      "Importing data\n",
      "Training decision tree\n",
      "\n",
      "Testing decision tree\n",
      "\n",
      "Training random forest\n",
      "\n",
      "Testing random forest\n",
      "End\n",
      "\n"
     ]
    }
   ],
   "source": [
    "k_clusters = [5, 10, 15, 50, 100]#, 150, 300, 500, 750, 1000]\n",
    "\n",
    "training_accuracy_dt = np.zeros(len(k_clusters))\n",
    "testing_accuracy_dt = np.zeros(len(k_clusters))\n",
    "\n",
    "training_times_dt = np.zeros(len(k_clusters))\n",
    "testing_times_dt = np.zeros(len(k_clusters))\n",
    "\n",
    "training_accuracy_rf = np.zeros(len(k_clusters))\n",
    "testing_accuracy_rf = np.zeros(len(k_clusters))\n",
    "\n",
    "training_times_rf = np.zeros(len(k_clusters))\n",
    "testing_times_rf = np.zeros(len(k_clusters))\n",
    "\n",
    "i = 0\n",
    "\n",
    "for k in k_clusters:\n",
    "    print(str(k) + \"\\n\")\n",
    "    \n",
    "    print(\"Importing data\")\n",
    "    \n",
    "    training_features = genfromtxt(\"BoW_\"+ str(k)+ \"/training_features_\" + str(k) + \".csv\", delimiter=',')\n",
    "    testing_features = genfromtxt(\"BoW_\"+ str(k)+ \"/testing_features_\" + str(k) + \".csv\", delimiter=',')\n",
    "\n",
    "    training_labels = genfromtxt(\"BoW_\"+ str(k)+ \"/training_labels_\" + str(k) + \".csv\", delimiter=',')\n",
    "    testing_labels = genfromtxt(\"BoW_\"+ str(k)+ \"/testing_labels_\" + str(k) + \".csv\", delimiter=',')\n",
    "    \n",
    "    print(\"Training decision tree\\n\")\n",
    "    \n",
    "    dt_train_start = time.time()\n",
    "    clf = DecisionTree(weak_learner=\"two_pixel\", rand_state = 42)\n",
    "    clf.fit(training_features, training_labels)\n",
    "    dt_train_end = time.time()\n",
    "    \n",
    "    training_times_dt[i] = dt_train_end-dt_train_start\n",
    "    \n",
    "    print(\"Testing decision tree\\n\")\n",
    "    \n",
    "    y_pred = [clf.predict(x.reshape(1, -1)) for x in training_features]\n",
    "    y_pred = list(chain.from_iterable(y_pred))\n",
    "    \n",
    "    training_accuracy_dt[i] = accuracy(training_labels, y_pred)\n",
    "    \n",
    "    dt_test_start = time.time()\n",
    "    y_pred = [clf.predict(x.reshape(1, -1)) for x in testing_features]\n",
    "    dt_test_end = time.time()\n",
    "    y_pred = list(chain.from_iterable(y_pred))\n",
    "\n",
    "    testing_accuracy_dt[i] = accuracy(testing_labels, y_pred)\n",
    "    \n",
    "    testing_times_dt[i] = dt_test_end-dt_test_start\n",
    "    \n",
    "    print(\"Training random forest\\n\")\n",
    "    \n",
    "    rf_train_start = time.time()\n",
    "    \n",
    "    rf = RandomForest()\n",
    "    rf.fit(training_features, training_labels)\n",
    "    \n",
    "    rf_train_end = time.time()\n",
    "    \n",
    "    training_times_rf[i] = rf_train_end - rf_train_start \n",
    "    \n",
    "    print(\"Testing random forest\")\n",
    "    \n",
    "    y_pred = [rf.predict(x.reshape(1, -1)) for x in training_features]\n",
    "    y_pred = list(chain.from_iterable(y_pred))\n",
    "    y_pred = np.asarray(list(map(int, y_pred)))\n",
    "    \n",
    "    training_accuracy_rf[i] = accuracy(training_labels, y_pred)\n",
    "    \n",
    "    y_pred = [rf.predict(x.reshape(1, -1)) for x in testing_features]\n",
    "    y_pred = list(chain.from_iterable(y_pred))\n",
    "    y_pred = np.asarray(list(map(int, y_pred)))\n",
    "    \n",
    "    testing_accuracy_rf[i] = accuracy(testing_labels, y_pred) \n",
    "    \n",
    "    print(\"End\\n\")\n",
    "    \n",
    "    i += 1"
   ]
  },
  {
   "cell_type": "code",
   "execution_count": 45,
   "metadata": {},
   "outputs": [
    {
     "data": {
      "text/plain": [
       "[<matplotlib.lines.Line2D at 0x205cdbf4b00>]"
      ]
     },
     "execution_count": 45,
     "metadata": {},
     "output_type": "execute_result"
    },
    {
     "data": {
      "image/png": "[encoded data removed]",
      "text/plain": [
       "<Figure size 432x288 with 1 Axes>"
      ]
     },
     "metadata": {
      "needs_background": "light"
     },
     "output_type": "display_data"
    }
   ],
   "source": [
    "plt.plot(k_clusters, training_accuracy_dt)\n",
    "plt.plot(k_clusters, testing_accuracy_dt)\n",
    "\n",
    "plt.plot(k_clusters, training_accuracy_rf)\n",
    "plt.plot(k_clusters, testing_accuracy_rf)"
   ]
  },
  {
   "cell_type": "code",
   "execution_count": 46,
   "metadata": {},
   "outputs": [
    {
     "data": {
      "text/plain": [
       "array([0.42      , 0.53333333, 0.64      , 0.65333333, 0.7       ])"
      ]
     },
     "execution_count": 46,
     "metadata": {},
     "output_type": "execute_result"
    }
   ],
   "source": [
    "testing_accuracy_rf"
   ]
  },
  {
   "cell_type": "code",
   "execution_count": 51,
   "metadata": {},
   "outputs": [
    {
     "data": {
      "image/png": "[encoded data removed]",
      "text/plain": [
       "<Figure size 432x288 with 1 Axes>"
      ]
     },
     "metadata": {
      "needs_background": "light"
     },
     "output_type": "display_data"
    }
   ],
   "source": [
    "# train_acc_dt, = plt.plot(k_clusters, training_accuracy_dt, label=\"Decision tree training acc\")\n",
    "test_acc_dt, = plt.plot(k_clusters, testing_accuracy_dt, label = \"Decision tree testing acc\")\n",
    "\n",
    "# train_acc_rf, = plt.plot(k_clusters, training_accuracy_rf, label = \"Random Forest training acc\")\n",
    "test_acc_rf, = plt.plot(k_clusters, testing_accuracy_rf, label = \"Random Forest testing acc\")\n",
    "\n",
    "# Create a legend for the first line.\n",
    "# legend = plt.legend(handles=[train_acc_dt, test_acc_dt, train_acc_rf, test_acc_rf], loc='best')\n",
    "legend = plt.legend(handles=[test_acc_dt, test_acc_rf], loc='best')\n",
    "\n",
    "plt.xlabel('Vocabulary Size')\n",
    "plt.ylabel('Accuracy')\n",
    "\n",
    "plt.show()"
   ]
  },
  {
   "cell_type": "code",
   "execution_count": null,
   "metadata": {},
   "outputs": [],
   "source": []
  }
 ],
 "metadata": {
  "kernelspec": {
   "display_name": "Python 3",
   "language": "python",
   "name": "python3"
  },
  "language_info": {
   "codemirror_mode": {
    "name": "ipython",
    "version": 3
   },
   "file_extension": ".py",
   "mimetype": "text/x-python",
   "name": "python",
   "nbconvert_exporter": "python",
   "pygments_lexer": "ipython3",
   "version": "3.6.9"
  }
 },
 "nbformat": 4,
 "nbformat_minor": 2
}
